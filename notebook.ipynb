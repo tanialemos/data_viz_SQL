{
 "cells": [
  {
   "cell_type": "code",
   "execution_count": 14,
   "metadata": {},
   "outputs": [],
   "source": [
    "import sqlite3\n",
    "import os\n",
    "import pandas as pd\n",
    "import streamlit as st\n",
    "import time\n",
    "\n",
    "connexion = sqlite3.connect(\"../database/bce.db\")\n",
    "cursor = connexion.cursor()"
   ]
  },
  {
   "cell_type": "code",
   "execution_count": 3,
   "metadata": {},
   "outputs": [],
   "source": [
    "# creating dataframe for entreprise table\n",
    "cursor.execute(\"\"\"\n",
    "Select *\n",
    "FROM enterprise\n",
    "\"\"\")\n",
    "enterprise = cursor.fetchall()\n",
    "col = [description[0] for description in cursor.description]\n",
    "\n",
    "df_enterprise = pd.DataFrame.from_records(data=enterprise, columns=col)"
   ]
  },
  {
   "cell_type": "code",
   "execution_count": 20,
   "metadata": {},
   "outputs": [
    {
     "data": {
      "text/html": [
       "<div>\n",
       "<style scoped>\n",
       "    .dataframe tbody tr th:only-of-type {\n",
       "        vertical-align: middle;\n",
       "    }\n",
       "\n",
       "    .dataframe tbody tr th {\n",
       "        vertical-align: top;\n",
       "    }\n",
       "\n",
       "    .dataframe thead th {\n",
       "        text-align: right;\n",
       "    }\n",
       "</style>\n",
       "<table border=\"1\" class=\"dataframe\">\n",
       "  <thead>\n",
       "    <tr style=\"text-align: right;\">\n",
       "      <th></th>\n",
       "      <th>Category</th>\n",
       "      <th>Code</th>\n",
       "      <th>Language</th>\n",
       "      <th>Description</th>\n",
       "    </tr>\n",
       "  </thead>\n",
       "  <tbody>\n",
       "    <tr>\n",
       "      <th>0</th>\n",
       "      <td>TypeOfEnterprise</td>\n",
       "      <td>0</td>\n",
       "      <td>FR</td>\n",
       "      <td>Inconnu</td>\n",
       "    </tr>\n",
       "    <tr>\n",
       "      <th>2</th>\n",
       "      <td>TypeOfEnterprise</td>\n",
       "      <td>1</td>\n",
       "      <td>FR</td>\n",
       "      <td>Personne physique</td>\n",
       "    </tr>\n",
       "    <tr>\n",
       "      <th>4</th>\n",
       "      <td>TypeOfEnterprise</td>\n",
       "      <td>2</td>\n",
       "      <td>FR</td>\n",
       "      <td>Personne morale</td>\n",
       "    </tr>\n",
       "  </tbody>\n",
       "</table>\n",
       "</div>"
      ],
      "text/plain": [
       "           Category Code Language        Description\n",
       "0  TypeOfEnterprise    0       FR            Inconnu\n",
       "2  TypeOfEnterprise    1       FR  Personne physique\n",
       "4  TypeOfEnterprise    2       FR    Personne morale"
      ]
     },
     "execution_count": 20,
     "metadata": {},
     "output_type": "execute_result"
    }
   ],
   "source": [
    "# creating dataframe for type of enterprise\n",
    "cursor.execute(\"\"\"\n",
    "select * \n",
    "from code\n",
    "where Category = 'TypeOfEnterprise'\n",
    "\"\"\")\n",
    "data = cursor.fetchall()\n",
    "col = [description[0] for description in cursor.description]\n",
    "\n",
    "df_type_of_enterprise = pd.DataFrame.from_records(data=data, columns=col)\n",
    "df_type_of_enterprise_FR = df_type_of_enterprise.drop(df_type_of_enterprise[df_type_of_enterprise.Language == 'NL'].index)\n",
    "df_type_of_enterprise_FR"
   ]
  },
  {
   "cell_type": "code",
   "execution_count": null,
   "metadata": {},
   "outputs": [],
   "source": []
  },
  {
   "cell_type": "code",
   "execution_count": 3,
   "metadata": {},
   "outputs": [
    {
     "data": {
      "text/plain": [
       "1863292"
      ]
     },
     "execution_count": 3,
     "metadata": {},
     "output_type": "execute_result"
    }
   ],
   "source": [
    "nbr_of_enterprises = df_enterprise.shape[0]\n",
    "nbr_of_enterprises"
   ]
  },
  {
   "cell_type": "code",
   "execution_count": 6,
   "metadata": {},
   "outputs": [
    {
     "data": {
      "text/plain": [
       "False    1863292\n",
       "dtype: int64"
      ]
     },
     "execution_count": 6,
     "metadata": {},
     "output_type": "execute_result"
    }
   ],
   "source": [
    "# Check no duplicates\n",
    "df_enterprise.duplicated().value_counts()"
   ]
  },
  {
   "cell_type": "code",
   "execution_count": 30,
   "metadata": {},
   "outputs": [
    {
     "data": {
      "text/html": [
       "<div>\n",
       "<style scoped>\n",
       "    .dataframe tbody tr th:only-of-type {\n",
       "        vertical-align: middle;\n",
       "    }\n",
       "\n",
       "    .dataframe tbody tr th {\n",
       "        vertical-align: top;\n",
       "    }\n",
       "\n",
       "    .dataframe thead th {\n",
       "        text-align: right;\n",
       "    }\n",
       "</style>\n",
       "<table border=\"1\" class=\"dataframe\">\n",
       "  <thead>\n",
       "    <tr style=\"text-align: right;\">\n",
       "      <th></th>\n",
       "      <th>EnterpriseNumber</th>\n",
       "      <th>Status</th>\n",
       "      <th>JuridicalSituation</th>\n",
       "      <th>TypeOfEnterprise</th>\n",
       "      <th>JuridicalForm</th>\n",
       "      <th>StartDate</th>\n",
       "    </tr>\n",
       "  </thead>\n",
       "  <tbody>\n",
       "    <tr>\n",
       "      <th>0</th>\n",
       "      <td>0200.065.765</td>\n",
       "      <td>AC</td>\n",
       "      <td>000</td>\n",
       "      <td>2</td>\n",
       "      <td>416</td>\n",
       "      <td>1960-08-09 00:00:00</td>\n",
       "    </tr>\n",
       "    <tr>\n",
       "      <th>1</th>\n",
       "      <td>0200.068.636</td>\n",
       "      <td>AC</td>\n",
       "      <td>000</td>\n",
       "      <td>2</td>\n",
       "      <td>417</td>\n",
       "      <td>1923-02-16 00:00:00</td>\n",
       "    </tr>\n",
       "    <tr>\n",
       "      <th>2</th>\n",
       "      <td>0200.171.970</td>\n",
       "      <td>AC</td>\n",
       "      <td>000</td>\n",
       "      <td>2</td>\n",
       "      <td>116</td>\n",
       "      <td>1968-01-01 00:00:00</td>\n",
       "    </tr>\n",
       "    <tr>\n",
       "      <th>3</th>\n",
       "      <td>0200.245.711</td>\n",
       "      <td>AC</td>\n",
       "      <td>012</td>\n",
       "      <td>2</td>\n",
       "      <td>116</td>\n",
       "      <td>1922-01-01 00:00:00</td>\n",
       "    </tr>\n",
       "    <tr>\n",
       "      <th>4</th>\n",
       "      <td>0200.305.493</td>\n",
       "      <td>AC</td>\n",
       "      <td>000</td>\n",
       "      <td>2</td>\n",
       "      <td>416</td>\n",
       "      <td>1922-01-01 00:00:00</td>\n",
       "    </tr>\n",
       "  </tbody>\n",
       "</table>\n",
       "</div>"
      ],
      "text/plain": [
       "  EnterpriseNumber Status JuridicalSituation TypeOfEnterprise JuridicalForm  \\\n",
       "0     0200.065.765     AC                000                2           416   \n",
       "1     0200.068.636     AC                000                2           417   \n",
       "2     0200.171.970     AC                000                2           116   \n",
       "3     0200.245.711     AC                012                2           116   \n",
       "4     0200.305.493     AC                000                2           416   \n",
       "\n",
       "             StartDate  \n",
       "0  1960-08-09 00:00:00  \n",
       "1  1923-02-16 00:00:00  \n",
       "2  1968-01-01 00:00:00  \n",
       "3  1922-01-01 00:00:00  \n",
       "4  1922-01-01 00:00:00  "
      ]
     },
     "execution_count": 30,
     "metadata": {},
     "output_type": "execute_result"
    }
   ],
   "source": [
    "df_enterprise.head()"
   ]
  },
  {
   "cell_type": "code",
   "execution_count": 72,
   "metadata": {},
   "outputs": [
    {
     "data": {
      "text/plain": [
       "str"
      ]
     },
     "execution_count": 72,
     "metadata": {},
     "output_type": "execute_result"
    }
   ],
   "source": [
    "type(df_enterprise.at[0, 'TypeOfEnterprise'])"
   ]
  },
  {
   "cell_type": "code",
   "execution_count": 11,
   "metadata": {},
   "outputs": [
    {
     "data": {
      "text/plain": [
       "AC    1863292\n",
       "Name: Status, dtype: int64"
      ]
     },
     "execution_count": 11,
     "metadata": {},
     "output_type": "execute_result"
    }
   ],
   "source": [
    "# How many companies per status\n",
    "status = df_enterprise['Status'].value_counts()"
   ]
  },
  {
   "cell_type": "code",
   "execution_count": 4,
   "metadata": {},
   "outputs": [
    {
     "data": {
      "text/html": [
       "<div>\n",
       "<style scoped>\n",
       "    .dataframe tbody tr th:only-of-type {\n",
       "        vertical-align: middle;\n",
       "    }\n",
       "\n",
       "    .dataframe tbody tr th {\n",
       "        vertical-align: top;\n",
       "    }\n",
       "\n",
       "    .dataframe thead th {\n",
       "        text-align: right;\n",
       "    }\n",
       "</style>\n",
       "<table border=\"1\" class=\"dataframe\">\n",
       "  <thead>\n",
       "    <tr style=\"text-align: right;\">\n",
       "      <th></th>\n",
       "      <th>EnterpriseNumber</th>\n",
       "      <th>JuridicalSituation</th>\n",
       "      <th>TypeOfEnterprise</th>\n",
       "      <th>JuridicalForm</th>\n",
       "      <th>StartDate</th>\n",
       "    </tr>\n",
       "    <tr>\n",
       "      <th>Status</th>\n",
       "      <th></th>\n",
       "      <th></th>\n",
       "      <th></th>\n",
       "      <th></th>\n",
       "      <th></th>\n",
       "    </tr>\n",
       "  </thead>\n",
       "  <tbody>\n",
       "    <tr>\n",
       "      <th>AC</th>\n",
       "      <td>1863292</td>\n",
       "      <td>1863292</td>\n",
       "      <td>1863292</td>\n",
       "      <td>1099649</td>\n",
       "      <td>1863291</td>\n",
       "    </tr>\n",
       "  </tbody>\n",
       "</table>\n",
       "</div>"
      ],
      "text/plain": [
       "        EnterpriseNumber  JuridicalSituation  TypeOfEnterprise  JuridicalForm  \\\n",
       "Status                                                                          \n",
       "AC               1863292             1863292           1863292        1099649   \n",
       "\n",
       "        StartDate  \n",
       "Status             \n",
       "AC        1863291  "
      ]
     },
     "execution_count": 4,
     "metadata": {},
     "output_type": "execute_result"
    }
   ],
   "source": [
    "groupby_status = df_enterprise.groupby(['Status']).count()\n",
    "groupby_status"
   ]
  },
  {
   "cell_type": "code",
   "execution_count": 9,
   "metadata": {},
   "outputs": [
    {
     "data": {
      "text/plain": [
       "100.0"
      ]
     },
     "execution_count": 9,
     "metadata": {},
     "output_type": "execute_result"
    }
   ],
   "source": [
    "status_percent = groupby_status['EnterpriseNumber'] / nbr_of_enterprises * 100\n",
    "status_percent['AC']"
   ]
  },
  {
   "cell_type": "code",
   "execution_count": 18,
   "metadata": {},
   "outputs": [
    {
     "data": {
      "text/html": [
       "<div>\n",
       "<style scoped>\n",
       "    .dataframe tbody tr th:only-of-type {\n",
       "        vertical-align: middle;\n",
       "    }\n",
       "\n",
       "    .dataframe tbody tr th {\n",
       "        vertical-align: top;\n",
       "    }\n",
       "\n",
       "    .dataframe thead th {\n",
       "        text-align: right;\n",
       "    }\n",
       "</style>\n",
       "<table border=\"1\" class=\"dataframe\">\n",
       "  <thead>\n",
       "    <tr style=\"text-align: right;\">\n",
       "      <th></th>\n",
       "      <th>EnterpriseNumber</th>\n",
       "      <th>Status</th>\n",
       "      <th>JuridicalSituation</th>\n",
       "      <th>JuridicalForm</th>\n",
       "      <th>StartDate</th>\n",
       "    </tr>\n",
       "    <tr>\n",
       "      <th>TypeOfEnterprise</th>\n",
       "      <th></th>\n",
       "      <th></th>\n",
       "      <th></th>\n",
       "      <th></th>\n",
       "      <th></th>\n",
       "    </tr>\n",
       "  </thead>\n",
       "  <tbody>\n",
       "    <tr>\n",
       "      <th>1</th>\n",
       "      <td>763643</td>\n",
       "      <td>763643</td>\n",
       "      <td>763643</td>\n",
       "      <td>0</td>\n",
       "      <td>763643</td>\n",
       "    </tr>\n",
       "    <tr>\n",
       "      <th>2</th>\n",
       "      <td>1099649</td>\n",
       "      <td>1099649</td>\n",
       "      <td>1099649</td>\n",
       "      <td>1099649</td>\n",
       "      <td>1099648</td>\n",
       "    </tr>\n",
       "  </tbody>\n",
       "</table>\n",
       "</div>"
      ],
      "text/plain": [
       "                  EnterpriseNumber   Status  JuridicalSituation  \\\n",
       "TypeOfEnterprise                                                  \n",
       "1                           763643   763643              763643   \n",
       "2                          1099649  1099649             1099649   \n",
       "\n",
       "                  JuridicalForm  StartDate  \n",
       "TypeOfEnterprise                            \n",
       "1                             0     763643  \n",
       "2                       1099649    1099648  "
      ]
     },
     "execution_count": 18,
     "metadata": {},
     "output_type": "execute_result"
    }
   ],
   "source": [
    "#\"Which percentage of the companies are which type of entreprise?\"\n",
    "groupby_type = df_enterprise.groupby(['TypeOfEnterprise']).count()\n",
    "groupby_type"
   ]
  },
  {
   "cell_type": "code",
   "execution_count": 54,
   "metadata": {},
   "outputs": [
    {
     "data": {
      "text/plain": [
       "str"
      ]
     },
     "execution_count": 54,
     "metadata": {},
     "output_type": "execute_result"
    }
   ],
   "source": [
    "desc = df_type_of_enterprise_FR.loc[df_type_of_enterprise_FR['Code'] == '2']['Description']\n",
    "type(desc.values[0])"
   ]
  },
  {
   "cell_type": "code",
   "execution_count": 4,
   "metadata": {},
   "outputs": [],
   "source": [
    "# define query executor function\n",
    "def run_query(query):\n",
    "    cursor.execute(query)\n",
    "    return cursor.fetchall()"
   ]
  },
  {
   "cell_type": "code",
   "execution_count": 39,
   "metadata": {},
   "outputs": [
    {
     "name": "stdout",
     "output_type": "stream",
     "text": [
      "Query Complete - Elapsed 25.04547142982483 secs for 10000 rows\n"
     ]
    }
   ],
   "source": [
    "start_time = time.time()\n",
    "\n",
    "rows = run_query('''\n",
    "    select enterprise.EnterpriseNumber, TypeOfEnterprise.Description\n",
    "from enterprise\n",
    "left join (Select Code, Description\n",
    "\tfrom code\n",
    "\twhere code.Category = \"TypeOfEnterprise\" AND code.\"Language\"=\"FR\")  TypeOfEnterprise\n",
    "on enterprise.TypeOfEnterprise = TypeOfEnterprise.Code\n",
    "limit 10000\n",
    "   ''')\n",
    "\n",
    "end_time = time.time()\n",
    "print(f\"Query Complete - Elapsed {(end_time - start_time)} secs for 10000 rows\")\n"
   ]
  },
  {
   "cell_type": "code",
   "execution_count": 40,
   "metadata": {},
   "outputs": [
    {
     "data": {
      "text/plain": [
       "Personne morale    10000\n",
       "Name: type_desc, dtype: int64"
      ]
     },
     "execution_count": 40,
     "metadata": {},
     "output_type": "execute_result"
    }
   ],
   "source": [
    "cols = ['EnterpriseNumber', 'type_desc']\n",
    "df_from_query = pd.DataFrame(rows, columns=cols)\n",
    "df_from_query['type_desc'].value_counts()"
   ]
  },
  {
   "cell_type": "code",
   "execution_count": 45,
   "metadata": {},
   "outputs": [
    {
     "data": {
      "text/html": [
       "<div>\n",
       "<style scoped>\n",
       "    .dataframe tbody tr th:only-of-type {\n",
       "        vertical-align: middle;\n",
       "    }\n",
       "\n",
       "    .dataframe tbody tr th {\n",
       "        vertical-align: top;\n",
       "    }\n",
       "\n",
       "    .dataframe thead th {\n",
       "        text-align: right;\n",
       "    }\n",
       "</style>\n",
       "<table border=\"1\" class=\"dataframe\">\n",
       "  <thead>\n",
       "    <tr style=\"text-align: right;\">\n",
       "      <th></th>\n",
       "      <th>EnterpriseNumber</th>\n",
       "      <th>Status</th>\n",
       "      <th>JuridicalSituation</th>\n",
       "      <th>TypeOfEnterprise</th>\n",
       "      <th>JuridicalForm</th>\n",
       "      <th>StartDate</th>\n",
       "      <th>type_desc</th>\n",
       "    </tr>\n",
       "  </thead>\n",
       "  <tbody>\n",
       "    <tr>\n",
       "      <th>0</th>\n",
       "      <td>0200.065.765</td>\n",
       "      <td>AC</td>\n",
       "      <td>000</td>\n",
       "      <td>2</td>\n",
       "      <td>416</td>\n",
       "      <td>1960-08-09 00:00:00</td>\n",
       "      <td>Personne morale</td>\n",
       "    </tr>\n",
       "    <tr>\n",
       "      <th>1</th>\n",
       "      <td>0200.068.636</td>\n",
       "      <td>AC</td>\n",
       "      <td>000</td>\n",
       "      <td>2</td>\n",
       "      <td>417</td>\n",
       "      <td>1923-02-16 00:00:00</td>\n",
       "      <td>Personne morale</td>\n",
       "    </tr>\n",
       "    <tr>\n",
       "      <th>2</th>\n",
       "      <td>0200.171.970</td>\n",
       "      <td>AC</td>\n",
       "      <td>000</td>\n",
       "      <td>2</td>\n",
       "      <td>116</td>\n",
       "      <td>1968-01-01 00:00:00</td>\n",
       "      <td>Personne morale</td>\n",
       "    </tr>\n",
       "    <tr>\n",
       "      <th>3</th>\n",
       "      <td>0200.245.711</td>\n",
       "      <td>AC</td>\n",
       "      <td>012</td>\n",
       "      <td>2</td>\n",
       "      <td>116</td>\n",
       "      <td>1922-01-01 00:00:00</td>\n",
       "      <td>Personne morale</td>\n",
       "    </tr>\n",
       "    <tr>\n",
       "      <th>4</th>\n",
       "      <td>0200.305.493</td>\n",
       "      <td>AC</td>\n",
       "      <td>000</td>\n",
       "      <td>2</td>\n",
       "      <td>416</td>\n",
       "      <td>1922-01-01 00:00:00</td>\n",
       "      <td>Personne morale</td>\n",
       "    </tr>\n",
       "    <tr>\n",
       "      <th>...</th>\n",
       "      <td>...</td>\n",
       "      <td>...</td>\n",
       "      <td>...</td>\n",
       "      <td>...</td>\n",
       "      <td>...</td>\n",
       "      <td>...</td>\n",
       "      <td>...</td>\n",
       "    </tr>\n",
       "    <tr>\n",
       "      <th>1863287</th>\n",
       "      <td>0998.603.518</td>\n",
       "      <td>AC</td>\n",
       "      <td>000</td>\n",
       "      <td>2</td>\n",
       "      <td>230</td>\n",
       "      <td>2001-01-01 00:00:00</td>\n",
       "      <td>Personne physique</td>\n",
       "    </tr>\n",
       "    <tr>\n",
       "      <th>1863288</th>\n",
       "      <td>0998.603.617</td>\n",
       "      <td>AC</td>\n",
       "      <td>000</td>\n",
       "      <td>2</td>\n",
       "      <td>230</td>\n",
       "      <td>2001-01-01 00:00:00</td>\n",
       "      <td>Personne physique</td>\n",
       "    </tr>\n",
       "    <tr>\n",
       "      <th>1863289</th>\n",
       "      <td>0998.604.211</td>\n",
       "      <td>AC</td>\n",
       "      <td>000</td>\n",
       "      <td>2</td>\n",
       "      <td>230</td>\n",
       "      <td>2001-09-15 00:00:00</td>\n",
       "      <td>Personne physique</td>\n",
       "    </tr>\n",
       "    <tr>\n",
       "      <th>1863290</th>\n",
       "      <td>0998.604.607</td>\n",
       "      <td>AC</td>\n",
       "      <td>000</td>\n",
       "      <td>2</td>\n",
       "      <td>230</td>\n",
       "      <td>2003-05-07 00:00:00</td>\n",
       "      <td>Personne physique</td>\n",
       "    </tr>\n",
       "    <tr>\n",
       "      <th>1863291</th>\n",
       "      <td>0998.605.201</td>\n",
       "      <td>AC</td>\n",
       "      <td>000</td>\n",
       "      <td>2</td>\n",
       "      <td>230</td>\n",
       "      <td>2001-12-31 00:00:00</td>\n",
       "      <td>Personne physique</td>\n",
       "    </tr>\n",
       "  </tbody>\n",
       "</table>\n",
       "<p>1863292 rows × 7 columns</p>\n",
       "</div>"
      ],
      "text/plain": [
       "        EnterpriseNumber Status JuridicalSituation TypeOfEnterprise  \\\n",
       "0           0200.065.765     AC                000                2   \n",
       "1           0200.068.636     AC                000                2   \n",
       "2           0200.171.970     AC                000                2   \n",
       "3           0200.245.711     AC                012                2   \n",
       "4           0200.305.493     AC                000                2   \n",
       "...                  ...    ...                ...              ...   \n",
       "1863287     0998.603.518     AC                000                2   \n",
       "1863288     0998.603.617     AC                000                2   \n",
       "1863289     0998.604.211     AC                000                2   \n",
       "1863290     0998.604.607     AC                000                2   \n",
       "1863291     0998.605.201     AC                000                2   \n",
       "\n",
       "        JuridicalForm            StartDate          type_desc  \n",
       "0                 416  1960-08-09 00:00:00    Personne morale  \n",
       "1                 417  1923-02-16 00:00:00    Personne morale  \n",
       "2                 116  1968-01-01 00:00:00    Personne morale  \n",
       "3                 116  1922-01-01 00:00:00    Personne morale  \n",
       "4                 416  1922-01-01 00:00:00    Personne morale  \n",
       "...               ...                  ...                ...  \n",
       "1863287           230  2001-01-01 00:00:00  Personne physique  \n",
       "1863288           230  2001-01-01 00:00:00  Personne physique  \n",
       "1863289           230  2001-09-15 00:00:00  Personne physique  \n",
       "1863290           230  2003-05-07 00:00:00  Personne physique  \n",
       "1863291           230  2001-12-31 00:00:00  Personne physique  \n",
       "\n",
       "[1863292 rows x 7 columns]"
      ]
     },
     "execution_count": 45,
     "metadata": {},
     "output_type": "execute_result"
    }
   ],
   "source": [
    "new_df = pd.merge(df_enterprise, df_from_query, how='left', on=\"EnterpriseNumber\")\n",
    "new_df.fillna('Personne physique', inplace=True)\n",
    "new_df"
   ]
  },
  {
   "cell_type": "code",
   "execution_count": 74,
   "metadata": {},
   "outputs": [],
   "source": [
    "#def get_type_description(row):\n",
    "#    if row == '1':\n",
    "#        print('jqjqj')\n",
    "#        desc = df_type_of_enterprise_FR.loc[df_type_of_enterprise_FR['Code'] == '1', ['Description']]\n",
    "#    elif row == '2':\n",
    "#        desc = df_type_of_enterprise_FR.loc[df_type_of_enterprise_FR['Code'] == '2', ['Description']]\n",
    "#    else:\n",
    "#        desc = df_type_of_enterprise_FR.loc[df_type_of_enterprise_FR['Code'] == '0', ['Description']]\n",
    "#    return desc.values[0] # to get the string value"
   ]
  },
  {
   "cell_type": "code",
   "execution_count": 75,
   "metadata": {},
   "outputs": [
    {
     "ename": "KeyboardInterrupt",
     "evalue": "",
     "output_type": "error",
     "traceback": [
      "\u001b[0;31m---------------------------------------------------------------------------\u001b[0m",
      "\u001b[0;31mKeyboardInterrupt\u001b[0m                         Traceback (most recent call last)",
      "Cell \u001b[0;32mIn [75], line 1\u001b[0m\n\u001b[0;32m----> 1\u001b[0m df_enterprise[\u001b[39m'\u001b[39m\u001b[39mtype_description\u001b[39m\u001b[39m'\u001b[39m] \u001b[39m=\u001b[39m df_enterprise[\u001b[39m'\u001b[39;49m\u001b[39mTypeOfEnterprise\u001b[39;49m\u001b[39m'\u001b[39;49m]\u001b[39m.\u001b[39;49mapply(get_type_description)\n\u001b[1;32m      2\u001b[0m df_enterprise\u001b[39m.\u001b[39mhead(\u001b[39m20\u001b[39m)\n",
      "File \u001b[0;32m~/becode/data_viz_SQL/venv/lib/python3.10/site-packages/pandas/core/series.py:4771\u001b[0m, in \u001b[0;36mSeries.apply\u001b[0;34m(self, func, convert_dtype, args, **kwargs)\u001b[0m\n\u001b[1;32m   4661\u001b[0m \u001b[39mdef\u001b[39;00m \u001b[39mapply\u001b[39m(\n\u001b[1;32m   4662\u001b[0m     \u001b[39mself\u001b[39m,\n\u001b[1;32m   4663\u001b[0m     func: AggFuncType,\n\u001b[0;32m   (...)\u001b[0m\n\u001b[1;32m   4666\u001b[0m     \u001b[39m*\u001b[39m\u001b[39m*\u001b[39mkwargs,\n\u001b[1;32m   4667\u001b[0m ) \u001b[39m-\u001b[39m\u001b[39m>\u001b[39m DataFrame \u001b[39m|\u001b[39m Series:\n\u001b[1;32m   4668\u001b[0m     \u001b[39m\"\"\"\u001b[39;00m\n\u001b[1;32m   4669\u001b[0m \u001b[39m    Invoke function on values of Series.\u001b[39;00m\n\u001b[1;32m   4670\u001b[0m \n\u001b[0;32m   (...)\u001b[0m\n\u001b[1;32m   4769\u001b[0m \u001b[39m    dtype: float64\u001b[39;00m\n\u001b[1;32m   4770\u001b[0m \u001b[39m    \"\"\"\u001b[39;00m\n\u001b[0;32m-> 4771\u001b[0m     \u001b[39mreturn\u001b[39;00m SeriesApply(\u001b[39mself\u001b[39;49m, func, convert_dtype, args, kwargs)\u001b[39m.\u001b[39;49mapply()\n",
      "File \u001b[0;32m~/becode/data_viz_SQL/venv/lib/python3.10/site-packages/pandas/core/apply.py:1105\u001b[0m, in \u001b[0;36mSeriesApply.apply\u001b[0;34m(self)\u001b[0m\n\u001b[1;32m   1102\u001b[0m     \u001b[39mreturn\u001b[39;00m \u001b[39mself\u001b[39m\u001b[39m.\u001b[39mapply_str()\n\u001b[1;32m   1104\u001b[0m \u001b[39m# self.f is Callable\u001b[39;00m\n\u001b[0;32m-> 1105\u001b[0m \u001b[39mreturn\u001b[39;00m \u001b[39mself\u001b[39;49m\u001b[39m.\u001b[39;49mapply_standard()\n",
      "File \u001b[0;32m~/becode/data_viz_SQL/venv/lib/python3.10/site-packages/pandas/core/apply.py:1156\u001b[0m, in \u001b[0;36mSeriesApply.apply_standard\u001b[0;34m(self)\u001b[0m\n\u001b[1;32m   1154\u001b[0m     \u001b[39melse\u001b[39;00m:\n\u001b[1;32m   1155\u001b[0m         values \u001b[39m=\u001b[39m obj\u001b[39m.\u001b[39mastype(\u001b[39mobject\u001b[39m)\u001b[39m.\u001b[39m_values\n\u001b[0;32m-> 1156\u001b[0m         mapped \u001b[39m=\u001b[39m lib\u001b[39m.\u001b[39;49mmap_infer(\n\u001b[1;32m   1157\u001b[0m             values,\n\u001b[1;32m   1158\u001b[0m             f,\n\u001b[1;32m   1159\u001b[0m             convert\u001b[39m=\u001b[39;49m\u001b[39mself\u001b[39;49m\u001b[39m.\u001b[39;49mconvert_dtype,\n\u001b[1;32m   1160\u001b[0m         )\n\u001b[1;32m   1162\u001b[0m \u001b[39mif\u001b[39;00m \u001b[39mlen\u001b[39m(mapped) \u001b[39mand\u001b[39;00m \u001b[39misinstance\u001b[39m(mapped[\u001b[39m0\u001b[39m], ABCSeries):\n\u001b[1;32m   1163\u001b[0m     \u001b[39m# GH#43986 Need to do list(mapped) in order to get treated as nested\u001b[39;00m\n\u001b[1;32m   1164\u001b[0m     \u001b[39m#  See also GH#25959 regarding EA support\u001b[39;00m\n\u001b[1;32m   1165\u001b[0m     \u001b[39mreturn\u001b[39;00m obj\u001b[39m.\u001b[39m_constructor_expanddim(\u001b[39mlist\u001b[39m(mapped), index\u001b[39m=\u001b[39mobj\u001b[39m.\u001b[39mindex)\n",
      "File \u001b[0;32m~/becode/data_viz_SQL/venv/lib/python3.10/site-packages/pandas/_libs/lib.pyx:2918\u001b[0m, in \u001b[0;36mpandas._libs.lib.map_infer\u001b[0;34m()\u001b[0m\n",
      "Cell \u001b[0;32mIn [74], line 6\u001b[0m, in \u001b[0;36mget_type_description\u001b[0;34m(row)\u001b[0m\n\u001b[1;32m      4\u001b[0m     desc \u001b[39m=\u001b[39m df_type_of_enterprise_FR\u001b[39m.\u001b[39mloc[df_type_of_enterprise_FR[\u001b[39m'\u001b[39m\u001b[39mCode\u001b[39m\u001b[39m'\u001b[39m] \u001b[39m==\u001b[39m \u001b[39m'\u001b[39m\u001b[39m1\u001b[39m\u001b[39m'\u001b[39m, [\u001b[39m'\u001b[39m\u001b[39mDescription\u001b[39m\u001b[39m'\u001b[39m]]\n\u001b[1;32m      5\u001b[0m \u001b[39melif\u001b[39;00m row \u001b[39m==\u001b[39m \u001b[39m'\u001b[39m\u001b[39m2\u001b[39m\u001b[39m'\u001b[39m:\n\u001b[0;32m----> 6\u001b[0m     desc \u001b[39m=\u001b[39m df_type_of_enterprise_FR\u001b[39m.\u001b[39;49mloc[df_type_of_enterprise_FR[\u001b[39m'\u001b[39;49m\u001b[39mCode\u001b[39;49m\u001b[39m'\u001b[39;49m] \u001b[39m==\u001b[39;49m \u001b[39m'\u001b[39;49m\u001b[39m2\u001b[39;49m\u001b[39m'\u001b[39;49m, [\u001b[39m'\u001b[39;49m\u001b[39mDescription\u001b[39;49m\u001b[39m'\u001b[39;49m]]\n\u001b[1;32m      7\u001b[0m \u001b[39melse\u001b[39;00m:\n\u001b[1;32m      8\u001b[0m     desc \u001b[39m=\u001b[39m df_type_of_enterprise_FR\u001b[39m.\u001b[39mloc[df_type_of_enterprise_FR[\u001b[39m'\u001b[39m\u001b[39mCode\u001b[39m\u001b[39m'\u001b[39m] \u001b[39m==\u001b[39m \u001b[39m'\u001b[39m\u001b[39m0\u001b[39m\u001b[39m'\u001b[39m, [\u001b[39m'\u001b[39m\u001b[39mDescription\u001b[39m\u001b[39m'\u001b[39m]]\n",
      "File \u001b[0;32m~/becode/data_viz_SQL/venv/lib/python3.10/site-packages/pandas/core/indexing.py:1067\u001b[0m, in \u001b[0;36m_LocationIndexer.__getitem__\u001b[0;34m(self, key)\u001b[0m\n\u001b[1;32m   1065\u001b[0m     \u001b[39mif\u001b[39;00m \u001b[39mself\u001b[39m\u001b[39m.\u001b[39m_is_scalar_access(key):\n\u001b[1;32m   1066\u001b[0m         \u001b[39mreturn\u001b[39;00m \u001b[39mself\u001b[39m\u001b[39m.\u001b[39mobj\u001b[39m.\u001b[39m_get_value(\u001b[39m*\u001b[39mkey, takeable\u001b[39m=\u001b[39m\u001b[39mself\u001b[39m\u001b[39m.\u001b[39m_takeable)\n\u001b[0;32m-> 1067\u001b[0m     \u001b[39mreturn\u001b[39;00m \u001b[39mself\u001b[39;49m\u001b[39m.\u001b[39;49m_getitem_tuple(key)\n\u001b[1;32m   1068\u001b[0m \u001b[39melse\u001b[39;00m:\n\u001b[1;32m   1069\u001b[0m     \u001b[39m# we by definition only have the 0th axis\u001b[39;00m\n\u001b[1;32m   1070\u001b[0m     axis \u001b[39m=\u001b[39m \u001b[39mself\u001b[39m\u001b[39m.\u001b[39maxis \u001b[39mor\u001b[39;00m \u001b[39m0\u001b[39m\n",
      "File \u001b[0;32m~/becode/data_viz_SQL/venv/lib/python3.10/site-packages/pandas/core/indexing.py:1256\u001b[0m, in \u001b[0;36m_LocIndexer._getitem_tuple\u001b[0;34m(self, tup)\u001b[0m\n\u001b[1;32m   1253\u001b[0m \u001b[39mif\u001b[39;00m \u001b[39mself\u001b[39m\u001b[39m.\u001b[39m_multi_take_opportunity(tup):\n\u001b[1;32m   1254\u001b[0m     \u001b[39mreturn\u001b[39;00m \u001b[39mself\u001b[39m\u001b[39m.\u001b[39m_multi_take(tup)\n\u001b[0;32m-> 1256\u001b[0m \u001b[39mreturn\u001b[39;00m \u001b[39mself\u001b[39;49m\u001b[39m.\u001b[39;49m_getitem_tuple_same_dim(tup)\n",
      "File \u001b[0;32m~/becode/data_viz_SQL/venv/lib/python3.10/site-packages/pandas/core/indexing.py:924\u001b[0m, in \u001b[0;36m_LocationIndexer._getitem_tuple_same_dim\u001b[0;34m(self, tup)\u001b[0m\n\u001b[1;32m    921\u001b[0m \u001b[39mif\u001b[39;00m com\u001b[39m.\u001b[39mis_null_slice(key):\n\u001b[1;32m    922\u001b[0m     \u001b[39mcontinue\u001b[39;00m\n\u001b[0;32m--> 924\u001b[0m retval \u001b[39m=\u001b[39m \u001b[39mgetattr\u001b[39;49m(retval, \u001b[39mself\u001b[39;49m\u001b[39m.\u001b[39;49mname)\u001b[39m.\u001b[39;49m_getitem_axis(key, axis\u001b[39m=\u001b[39;49mi)\n\u001b[1;32m    925\u001b[0m \u001b[39m# We should never have retval.ndim < self.ndim, as that should\u001b[39;00m\n\u001b[1;32m    926\u001b[0m \u001b[39m#  be handled by the _getitem_lowerdim call above.\u001b[39;00m\n\u001b[1;32m    927\u001b[0m \u001b[39massert\u001b[39;00m retval\u001b[39m.\u001b[39mndim \u001b[39m==\u001b[39m \u001b[39mself\u001b[39m\u001b[39m.\u001b[39mndim\n",
      "File \u001b[0;32m~/becode/data_viz_SQL/venv/lib/python3.10/site-packages/pandas/core/indexing.py:1301\u001b[0m, in \u001b[0;36m_LocIndexer._getitem_axis\u001b[0;34m(self, key, axis)\u001b[0m\n\u001b[1;32m   1298\u001b[0m     \u001b[39mif\u001b[39;00m \u001b[39mhasattr\u001b[39m(key, \u001b[39m\"\u001b[39m\u001b[39mndim\u001b[39m\u001b[39m\"\u001b[39m) \u001b[39mand\u001b[39;00m key\u001b[39m.\u001b[39mndim \u001b[39m>\u001b[39m \u001b[39m1\u001b[39m:\n\u001b[1;32m   1299\u001b[0m         \u001b[39mraise\u001b[39;00m \u001b[39mValueError\u001b[39;00m(\u001b[39m\"\u001b[39m\u001b[39mCannot index with multidimensional key\u001b[39m\u001b[39m\"\u001b[39m)\n\u001b[0;32m-> 1301\u001b[0m     \u001b[39mreturn\u001b[39;00m \u001b[39mself\u001b[39;49m\u001b[39m.\u001b[39;49m_getitem_iterable(key, axis\u001b[39m=\u001b[39;49maxis)\n\u001b[1;32m   1303\u001b[0m \u001b[39m# nested tuple slicing\u001b[39;00m\n\u001b[1;32m   1304\u001b[0m \u001b[39mif\u001b[39;00m is_nested_tuple(key, labels):\n",
      "File \u001b[0;32m~/becode/data_viz_SQL/venv/lib/python3.10/site-packages/pandas/core/indexing.py:1239\u001b[0m, in \u001b[0;36m_LocIndexer._getitem_iterable\u001b[0;34m(self, key, axis)\u001b[0m\n\u001b[1;32m   1236\u001b[0m \u001b[39mself\u001b[39m\u001b[39m.\u001b[39m_validate_key(key, axis)\n\u001b[1;32m   1238\u001b[0m \u001b[39m# A collection of keys\u001b[39;00m\n\u001b[0;32m-> 1239\u001b[0m keyarr, indexer \u001b[39m=\u001b[39m \u001b[39mself\u001b[39;49m\u001b[39m.\u001b[39;49m_get_listlike_indexer(key, axis)\n\u001b[1;32m   1240\u001b[0m \u001b[39mreturn\u001b[39;00m \u001b[39mself\u001b[39m\u001b[39m.\u001b[39mobj\u001b[39m.\u001b[39m_reindex_with_indexers(\n\u001b[1;32m   1241\u001b[0m     {axis: [keyarr, indexer]}, copy\u001b[39m=\u001b[39m\u001b[39mTrue\u001b[39;00m, allow_dups\u001b[39m=\u001b[39m\u001b[39mTrue\u001b[39;00m\n\u001b[1;32m   1242\u001b[0m )\n",
      "File \u001b[0;32m~/becode/data_viz_SQL/venv/lib/python3.10/site-packages/pandas/core/indexing.py:1432\u001b[0m, in \u001b[0;36m_LocIndexer._get_listlike_indexer\u001b[0;34m(self, key, axis)\u001b[0m\n\u001b[1;32m   1429\u001b[0m ax \u001b[39m=\u001b[39m \u001b[39mself\u001b[39m\u001b[39m.\u001b[39mobj\u001b[39m.\u001b[39m_get_axis(axis)\n\u001b[1;32m   1430\u001b[0m axis_name \u001b[39m=\u001b[39m \u001b[39mself\u001b[39m\u001b[39m.\u001b[39mobj\u001b[39m.\u001b[39m_get_axis_name(axis)\n\u001b[0;32m-> 1432\u001b[0m keyarr, indexer \u001b[39m=\u001b[39m ax\u001b[39m.\u001b[39;49m_get_indexer_strict(key, axis_name)\n\u001b[1;32m   1434\u001b[0m \u001b[39mreturn\u001b[39;00m keyarr, indexer\n",
      "File \u001b[0;32m~/becode/data_viz_SQL/venv/lib/python3.10/site-packages/pandas/core/indexes/base.py:6113\u001b[0m, in \u001b[0;36mIndex._get_indexer_strict\u001b[0;34m(self, key, axis_name)\u001b[0m\n\u001b[1;32m   6109\u001b[0m     keyarr, indexer, new_indexer \u001b[39m=\u001b[39m \u001b[39mself\u001b[39m\u001b[39m.\u001b[39m_reindex_non_unique(keyarr)\n\u001b[1;32m   6111\u001b[0m \u001b[39mself\u001b[39m\u001b[39m.\u001b[39m_raise_if_missing(keyarr, indexer, axis_name)\n\u001b[0;32m-> 6113\u001b[0m keyarr \u001b[39m=\u001b[39m \u001b[39mself\u001b[39;49m\u001b[39m.\u001b[39;49mtake(indexer)\n\u001b[1;32m   6114\u001b[0m \u001b[39mif\u001b[39;00m \u001b[39misinstance\u001b[39m(key, Index):\n\u001b[1;32m   6115\u001b[0m     \u001b[39m# GH 42790 - Preserve name from an Index\u001b[39;00m\n\u001b[1;32m   6116\u001b[0m     keyarr\u001b[39m.\u001b[39mname \u001b[39m=\u001b[39m key\u001b[39m.\u001b[39mname\n",
      "File \u001b[0;32m~/becode/data_viz_SQL/venv/lib/python3.10/site-packages/pandas/core/indexes/base.py:1184\u001b[0m, in \u001b[0;36mIndex.take\u001b[0;34m(self, indices, axis, allow_fill, fill_value, **kwargs)\u001b[0m\n\u001b[1;32m   1182\u001b[0m values \u001b[39m=\u001b[39m \u001b[39mself\u001b[39m\u001b[39m.\u001b[39m_values\n\u001b[1;32m   1183\u001b[0m \u001b[39mif\u001b[39;00m \u001b[39misinstance\u001b[39m(values, np\u001b[39m.\u001b[39mndarray):\n\u001b[0;32m-> 1184\u001b[0m     taken \u001b[39m=\u001b[39m algos\u001b[39m.\u001b[39;49mtake(\n\u001b[1;32m   1185\u001b[0m         values, indices, allow_fill\u001b[39m=\u001b[39;49mallow_fill, fill_value\u001b[39m=\u001b[39;49m\u001b[39mself\u001b[39;49m\u001b[39m.\u001b[39;49m_na_value\n\u001b[1;32m   1186\u001b[0m     )\n\u001b[1;32m   1187\u001b[0m \u001b[39melse\u001b[39;00m:\n\u001b[1;32m   1188\u001b[0m     \u001b[39m# algos.take passes 'axis' keyword which not all EAs accept\u001b[39;00m\n\u001b[1;32m   1189\u001b[0m     taken \u001b[39m=\u001b[39m values\u001b[39m.\u001b[39mtake(\n\u001b[1;32m   1190\u001b[0m         indices, allow_fill\u001b[39m=\u001b[39mallow_fill, fill_value\u001b[39m=\u001b[39m\u001b[39mself\u001b[39m\u001b[39m.\u001b[39m_na_value\n\u001b[1;32m   1191\u001b[0m     )\n",
      "File \u001b[0;32m~/becode/data_viz_SQL/venv/lib/python3.10/site-packages/pandas/core/algorithms.py:1573\u001b[0m, in \u001b[0;36mtake\u001b[0;34m(arr, indices, axis, allow_fill, fill_value)\u001b[0m\n\u001b[1;32m   1568\u001b[0m     result \u001b[39m=\u001b[39m take_nd(\n\u001b[1;32m   1569\u001b[0m         arr, indices, axis\u001b[39m=\u001b[39maxis, allow_fill\u001b[39m=\u001b[39m\u001b[39mTrue\u001b[39;00m, fill_value\u001b[39m=\u001b[39mfill_value\n\u001b[1;32m   1570\u001b[0m     )\n\u001b[1;32m   1571\u001b[0m \u001b[39melse\u001b[39;00m:\n\u001b[1;32m   1572\u001b[0m     \u001b[39m# NumPy style\u001b[39;00m\n\u001b[0;32m-> 1573\u001b[0m     result \u001b[39m=\u001b[39m arr\u001b[39m.\u001b[39;49mtake(indices, axis\u001b[39m=\u001b[39;49maxis)\n\u001b[1;32m   1574\u001b[0m \u001b[39mreturn\u001b[39;00m result\n",
      "\u001b[0;31mKeyboardInterrupt\u001b[0m: "
     ]
    }
   ],
   "source": [
    "#df_enterprise['type_description'] = df_enterprise['TypeOfEnterprise'].apply(get_type_description)\n",
    "#df_enterprise.head(20)"
   ]
  },
  {
   "cell_type": "code",
   "execution_count": 2,
   "metadata": {},
   "outputs": [
    {
     "name": "stdout",
     "output_type": "stream",
     "text": [
      "[('000', 1755422), ('010', 649), ('011', 3), ('012', 25827), ('013', 3233), ('020', 2493), ('030', 424), ('031', 18), ('040', 7), ('041', 39), ('042', 5), ('043', 43), ('048', 74), ('049', 8), ('050', 74732), ('051', 3), ('053', 1), ('091', 275), ('112', 36)]\n"
     ]
    }
   ],
   "source": [
    "#cursor.execute(\"\"\"\n",
    "#    SELECT JuridicalSituation, count(EnterpriseNumber) as nbr\n",
    "#from enterprise\n",
    "#group by JuridicalSituation;\n",
    "#\"\"\")\n",
    "#var = cursor.fetchall()\n",
    "#print(var)"
   ]
  },
  {
   "cell_type": "code",
   "execution_count": null,
   "metadata": {},
   "outputs": [],
   "source": []
  },
  {
   "cell_type": "code",
   "execution_count": 3,
   "metadata": {},
   "outputs": [
    {
     "name": "stderr",
     "output_type": "stream",
     "text": [
      "2022-10-25 16:20:27.787 \n",
      "  \u001b[33m\u001b[1mWarning:\u001b[0m to view this Streamlit app on a browser, run it with the following\n",
      "  command:\n",
      "\n",
      "    streamlit run /home/lemos/becode/data_viz_SQL/venv/lib/python3.10/site-packages/ipykernel_launcher.py [ARGUMENTS]\n"
     ]
    }
   ],
   "source": [
    "#def run_query(query):\n",
    "#    cursor.execute(query)\n",
    "#    return cursor.fetchall()\n",
    "#\n",
    "#rows = run_query('''\n",
    "#    SELECT JuridicalSituation, count(EnterpriseNumber) as nbr\n",
    "#    from enterprise\n",
    "#    group by JuridicalSituation;\n",
    "#    ''')\n",
    "#\n",
    "## DO NOT USE STREAMLIT WITH JUPYTER NOTEBOOK /!\\\n",
    "## Print results.\n",
    "#for row in rows:\n",
    "#    st.write(f\"{row[0]} has a :{row[1]}:\")"
   ]
  }
 ],
 "metadata": {
  "kernelspec": {
   "display_name": "Python 3.10.6 ('venv': venv)",
   "language": "python",
   "name": "python3"
  },
  "language_info": {
   "codemirror_mode": {
    "name": "ipython",
    "version": 3
   },
   "file_extension": ".py",
   "mimetype": "text/x-python",
   "name": "python",
   "nbconvert_exporter": "python",
   "pygments_lexer": "ipython3",
   "version": "3.10.6"
  },
  "orig_nbformat": 4,
  "vscode": {
   "interpreter": {
    "hash": "d86b95e51a395d9a50fe9fabf40a346e90fdd8e39eb081e105b9c1aba5b6f5cf"
   }
  }
 },
 "nbformat": 4,
 "nbformat_minor": 2
}
